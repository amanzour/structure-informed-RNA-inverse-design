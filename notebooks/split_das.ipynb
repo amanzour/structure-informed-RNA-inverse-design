{
 "cells": [
  {
   "cell_type": "markdown",
   "metadata": {},
   "source": [
    "# Data Split Creation\n",
    "\n",
    "This notebook creates data splits used to evaluate gRNAde on a set of RNA structures of interest from the PDB identified by [Das et al. (2011)](https://www.nature.com/articles/nmeth.1433), which mainly includes riboswitches, aptamers, and ribozymes.\n",
    "When benchmarking gRNAde vs. Rosetta, the training and validation data for the gRNAde model explicitly excluded these RNAsas well as any structurally similar RNAs with TM-score threshold of 0.45 (we used US-align for clustering).\n",
    "Thus, we tried to ensure that gRNAde has not memorized the evaluation dataset for fair comparison.\n",
    "\n",
    "**Workflow:**\n",
    "1. Cluster RNA sample sequences into groups based on structural similarity -- qTMclust for efficiently applying US-align with similarity threshold 0.45.\n",
    "2. Order the clusters based on a metric (median intra-sequence RMSD among available structures within the cluster).\n",
    "3. Identify the clusters belonging to RNAs identified in the Das et al. (2011) paper.\n",
    "4. Add all the selected RNAs as well as all other RNAs in the corresponding clusters to the test set (~100 samples).\n",
    "5. Training and validation splits are semi-randomly split based on the remaining RNAs. Very large (> 1000 nts) RNAs are added to the training set. Validation set RNAs would only come from clusters with less than 5 unique sequences/samples.\n",
    "4. If any samples were not assigned clusters, append them to the training set.\n",
    "\n",
    "Note that we separate very large RNA samples (> 1000 nts) from clustering and directly add these to the training set, as it is unlikely that we want to redesign very large RNAs. We do not process very short RNA samples (< 10 nts)."
   ]
  },
  {
   "cell_type": "code",
   "execution_count": 1,
   "metadata": {},
   "outputs": [
    {
     "data": {
      "text/plain": [
       "True"
      ]
     },
     "execution_count": 1,
     "metadata": {},
     "output_type": "execute_result"
    }
   ],
   "source": [
    "######################################################################\n",
    "# Geometric RNA Design, Joshi et al.\n",
    "# Original repository: https://github.com/chaitjo/geometric-rna-design\n",
    "######################################################################\n",
    "\n",
    "%load_ext autoreload\n",
    "%autoreload 2\n",
    "\n",
    "import sys\n",
    "sys.path.append('../')\n",
    "\n",
    "import dotenv\n",
    "dotenv.load_dotenv(\"../.env\")"
   ]
  },
  {
   "cell_type": "code",
   "execution_count": 2,
   "metadata": {},
   "outputs": [],
   "source": [
    "import os\n",
    "import numpy as np\n",
    "import pandas as pd\n",
    "import torch\n",
    "from tqdm import tqdm\n",
    "\n",
    "import matplotlib.pyplot as plt\n",
    "import seaborn as sns\n",
    "\n",
    "import lovely_tensors as lt\n",
    "lt.monkey_patch()"
   ]
  },
  {
   "cell_type": "code",
   "execution_count": 3,
   "metadata": {},
   "outputs": [],
   "source": [
    "DATA_PATH = os.environ.get(\"DATA_PATH\")"
   ]
  },
  {
   "cell_type": "code",
   "execution_count": 4,
   "metadata": {},
   "outputs": [
    {
     "name": "stderr",
     "output_type": "stream",
     "text": [
      "/tmp/ipykernel_868688/2143599171.py:1: FutureWarning: You are using `torch.load` with `weights_only=False` (the current default value), which uses the default pickle module implicitly. It is possible to construct malicious pickle data which will execute arbitrary code during unpickling (See https://github.com/pytorch/pytorch/blob/main/SECURITY.md#untrusted-models for more details). In a future release, the default value for `weights_only` will be flipped to `True`. This limits the functions that could be executed during unpickling. Arbitrary objects will no longer be allowed to be loaded via this mode unless they are explicitly allowlisted by the user via `torch.serialization.add_safe_globals`. We recommend you start setting `weights_only=True` for any use case where you don't have full control of the loaded file. Please open an issue on GitHub for any issues related to this experimental feature.\n",
      "  seq_to_data = torch.load(os.path.join(DATA_PATH, \"processed.pt\"))\n"
     ]
    },
    {
     "data": {
      "text/html": [
       "<div>\n",
       "<style scoped>\n",
       "    .dataframe tbody tr th:only-of-type {\n",
       "        vertical-align: middle;\n",
       "    }\n",
       "\n",
       "    .dataframe tbody tr th {\n",
       "        vertical-align: top;\n",
       "    }\n",
       "\n",
       "    .dataframe thead th {\n",
       "        text-align: right;\n",
       "    }\n",
       "</style>\n",
       "<table border=\"1\" class=\"dataframe\">\n",
       "  <thead>\n",
       "    <tr style=\"text-align: right;\">\n",
       "      <th></th>\n",
       "      <th>id_list</th>\n",
       "      <th>rfam_list</th>\n",
       "      <th>eq_class_list</th>\n",
       "      <th>type_list</th>\n",
       "      <th>cluster_seqid0.8</th>\n",
       "      <th>cluster_structsim0.45</th>\n",
       "      <th>sequence</th>\n",
       "      <th>length</th>\n",
       "      <th>mean_rmsd</th>\n",
       "      <th>median_rmsd</th>\n",
       "      <th>num_structures</th>\n",
       "    </tr>\n",
       "  </thead>\n",
       "  <tbody>\n",
       "    <tr>\n",
       "      <th>0</th>\n",
       "      <td>['8KIE_1_a']</td>\n",
       "      <td>['unknown']</td>\n",
       "      <td>['unknown']</td>\n",
       "      <td>['unknown']</td>\n",
       "      <td>308</td>\n",
       "      <td>47</td>\n",
       "      <td>ACCGAAACUAAUUUAGCGGACCGGAGGCUAUGUUGGGCGUGUAGUG...</td>\n",
       "      <td>358</td>\n",
       "      <td>0.000000</td>\n",
       "      <td>0.000000</td>\n",
       "      <td>1</td>\n",
       "    </tr>\n",
       "    <tr>\n",
       "      <th>1</th>\n",
       "      <td>['1VQN_1_9', '1Q82_1_B', '3CXC_1_9', '1Q7Y_1_B...</td>\n",
       "      <td>['5S_rRNA', '5S_rRNA', '5S_rRNA', '5S_rRNA', '...</td>\n",
       "      <td>['25303', '25303', '25303', '25303', '25303', ...</td>\n",
       "      <td>['Protein-RNA Complex', 'Protein-RNA Complex',...</td>\n",
       "      <td>406</td>\n",
       "      <td>148</td>\n",
       "      <td>UUAGGCGGCCACAGCGGUGGGGUUGCCUCCCGUACCCAUCCCGAAC...</td>\n",
       "      <td>122</td>\n",
       "      <td>0.466553</td>\n",
       "      <td>0.540285</td>\n",
       "      <td>37</td>\n",
       "    </tr>\n",
       "    <tr>\n",
       "      <th>2</th>\n",
       "      <td>['7UVW_1_a', '7RYF_1_a', '7RYH_1_a', '7UVZ_1_a...</td>\n",
       "      <td>['5S_rRNA', '5S_rRNA', '5S_rRNA', '5S_rRNA', '...</td>\n",
       "      <td>['43481', '43481', '43481', '43481', '43481', ...</td>\n",
       "      <td>['Protein-RNA Complex', 'Protein-RNA Complex',...</td>\n",
       "      <td>1</td>\n",
       "      <td>5</td>\n",
       "      <td>UAACUGAAGAGUUUGAUCAUGGCUCAGAUUGAACGCUGGCGGCAGG...</td>\n",
       "      <td>1519</td>\n",
       "      <td>2.746214</td>\n",
       "      <td>2.628028</td>\n",
       "      <td>14</td>\n",
       "    </tr>\n",
       "    <tr>\n",
       "      <th>3</th>\n",
       "      <td>['8BHN_1_4', '8BHJ_1_4', '8BH4_1_4', '8BF7_1_4']</td>\n",
       "      <td>['unknown', 'unknown', 'unknown', 'unknown']</td>\n",
       "      <td>['35542', '35542', '35542', '35542']</td>\n",
       "      <td>['Solo RNA', 'Solo RNA', 'Solo RNA', 'Solo RNA']</td>\n",
       "      <td>561</td>\n",
       "      <td>240</td>\n",
       "      <td>CGCGGGGGGAGCAGCCUGGUAGCUCGUCGGGUCAUAACCCGAAGGU...</td>\n",
       "      <td>74</td>\n",
       "      <td>0.677982</td>\n",
       "      <td>0.673382</td>\n",
       "      <td>4</td>\n",
       "    </tr>\n",
       "    <tr>\n",
       "      <th>4</th>\n",
       "      <td>['7U2H_1_1x', '8G29_1_1x', '8CVK_1_1x', '7U2H_...</td>\n",
       "      <td>['5S_rRNA', 'unknown', '5S_rRNA', '5S_rRNA', '...</td>\n",
       "      <td>['35542', 'unknown', '35542', '35542', '35542'...</td>\n",
       "      <td>['Solo RNA', 'unknown', 'Solo RNA', 'Solo RNA'...</td>\n",
       "      <td>561</td>\n",
       "      <td>240</td>\n",
       "      <td>CGCGGGGGGAGCAGCCUGGUAGCUCGUCGGGUCAUAACCCGAAGGU...</td>\n",
       "      <td>72</td>\n",
       "      <td>0.363182</td>\n",
       "      <td>0.363663</td>\n",
       "      <td>24</td>\n",
       "    </tr>\n",
       "    <tr>\n",
       "      <th>...</th>\n",
       "      <td>...</td>\n",
       "      <td>...</td>\n",
       "      <td>...</td>\n",
       "      <td>...</td>\n",
       "      <td>...</td>\n",
       "      <td>...</td>\n",
       "      <td>...</td>\n",
       "      <td>...</td>\n",
       "      <td>...</td>\n",
       "      <td>...</td>\n",
       "      <td>...</td>\n",
       "    </tr>\n",
       "    <tr>\n",
       "      <th>3958</th>\n",
       "      <td>['6JDV_1_B']</td>\n",
       "      <td>['CRISPR-DR34']</td>\n",
       "      <td>['38966']</td>\n",
       "      <td>['Protein-RNA Complex']</td>\n",
       "      <td>386</td>\n",
       "      <td>131</td>\n",
       "      <td>GGUCACUCUGCUAUUUAACUUUACGUUGUAGCUCCCUUUCUCAUUU...</td>\n",
       "      <td>143</td>\n",
       "      <td>0.000000</td>\n",
       "      <td>0.000000</td>\n",
       "      <td>1</td>\n",
       "    </tr>\n",
       "    <tr>\n",
       "      <th>3959</th>\n",
       "      <td>['7Q4K_1_D2']</td>\n",
       "      <td>['5S_rRNA']</td>\n",
       "      <td>['54715']</td>\n",
       "      <td>['Protein-RNA Complex']</td>\n",
       "      <td>544</td>\n",
       "      <td>240</td>\n",
       "      <td>GGCUACGAGCUCAGGAGAGCACAUCACUAUAGAUGGGCACAGGCGA...</td>\n",
       "      <td>64</td>\n",
       "      <td>0.000000</td>\n",
       "      <td>0.000000</td>\n",
       "      <td>1</td>\n",
       "    </tr>\n",
       "    <tr>\n",
       "      <th>3960</th>\n",
       "      <td>['8BTK_1_AT']</td>\n",
       "      <td>['5S_rRNA']</td>\n",
       "      <td>['67862']</td>\n",
       "      <td>['Protein-RNA Complex']</td>\n",
       "      <td>638</td>\n",
       "      <td>240</td>\n",
       "      <td>GCCGUGAUCGUAUAGUGGUUAGUACUCUGCGUUGUGGCCGCAGCAA...</td>\n",
       "      <td>72</td>\n",
       "      <td>0.000000</td>\n",
       "      <td>0.000000</td>\n",
       "      <td>1</td>\n",
       "    </tr>\n",
       "    <tr>\n",
       "      <th>3961</th>\n",
       "      <td>['5J7L_1_CA']</td>\n",
       "      <td>['5S_rRNA']</td>\n",
       "      <td>['83717']</td>\n",
       "      <td>['Protein-RNA Complex']</td>\n",
       "      <td>1</td>\n",
       "      <td>3</td>\n",
       "      <td>GGUUAAGCGACUAAGCGUACACGGUGGAUGCCCUGGCAGUCAGAGG...</td>\n",
       "      <td>2875</td>\n",
       "      <td>0.000000</td>\n",
       "      <td>0.000000</td>\n",
       "      <td>1</td>\n",
       "    </tr>\n",
       "    <tr>\n",
       "      <th>3962</th>\n",
       "      <td>['7PLA_1_B']</td>\n",
       "      <td>['unknown']</td>\n",
       "      <td>['85482']</td>\n",
       "      <td>['Protein-RNA Complex']</td>\n",
       "      <td>337</td>\n",
       "      <td>76</td>\n",
       "      <td>UAAUAGCGCCGCAAUUCAUGCUGCUUGCAGCCUCUGAAUUUUGUUA...</td>\n",
       "      <td>217</td>\n",
       "      <td>0.000000</td>\n",
       "      <td>0.000000</td>\n",
       "      <td>1</td>\n",
       "    </tr>\n",
       "  </tbody>\n",
       "</table>\n",
       "<p>3963 rows × 11 columns</p>\n",
       "</div>"
      ],
      "text/plain": [
       "                                                id_list  \\\n",
       "0                                          ['8KIE_1_a']   \n",
       "1     ['1VQN_1_9', '1Q82_1_B', '3CXC_1_9', '1Q7Y_1_B...   \n",
       "2     ['7UVW_1_a', '7RYF_1_a', '7RYH_1_a', '7UVZ_1_a...   \n",
       "3      ['8BHN_1_4', '8BHJ_1_4', '8BH4_1_4', '8BF7_1_4']   \n",
       "4     ['7U2H_1_1x', '8G29_1_1x', '8CVK_1_1x', '7U2H_...   \n",
       "...                                                 ...   \n",
       "3958                                       ['6JDV_1_B']   \n",
       "3959                                      ['7Q4K_1_D2']   \n",
       "3960                                      ['8BTK_1_AT']   \n",
       "3961                                      ['5J7L_1_CA']   \n",
       "3962                                       ['7PLA_1_B']   \n",
       "\n",
       "                                              rfam_list  \\\n",
       "0                                           ['unknown']   \n",
       "1     ['5S_rRNA', '5S_rRNA', '5S_rRNA', '5S_rRNA', '...   \n",
       "2     ['5S_rRNA', '5S_rRNA', '5S_rRNA', '5S_rRNA', '...   \n",
       "3          ['unknown', 'unknown', 'unknown', 'unknown']   \n",
       "4     ['5S_rRNA', 'unknown', '5S_rRNA', '5S_rRNA', '...   \n",
       "...                                                 ...   \n",
       "3958                                    ['CRISPR-DR34']   \n",
       "3959                                        ['5S_rRNA']   \n",
       "3960                                        ['5S_rRNA']   \n",
       "3961                                        ['5S_rRNA']   \n",
       "3962                                        ['unknown']   \n",
       "\n",
       "                                          eq_class_list  \\\n",
       "0                                           ['unknown']   \n",
       "1     ['25303', '25303', '25303', '25303', '25303', ...   \n",
       "2     ['43481', '43481', '43481', '43481', '43481', ...   \n",
       "3                  ['35542', '35542', '35542', '35542']   \n",
       "4     ['35542', 'unknown', '35542', '35542', '35542'...   \n",
       "...                                                 ...   \n",
       "3958                                          ['38966']   \n",
       "3959                                          ['54715']   \n",
       "3960                                          ['67862']   \n",
       "3961                                          ['83717']   \n",
       "3962                                          ['85482']   \n",
       "\n",
       "                                              type_list  cluster_seqid0.8  \\\n",
       "0                                           ['unknown']               308   \n",
       "1     ['Protein-RNA Complex', 'Protein-RNA Complex',...               406   \n",
       "2     ['Protein-RNA Complex', 'Protein-RNA Complex',...                 1   \n",
       "3      ['Solo RNA', 'Solo RNA', 'Solo RNA', 'Solo RNA']               561   \n",
       "4     ['Solo RNA', 'unknown', 'Solo RNA', 'Solo RNA'...               561   \n",
       "...                                                 ...               ...   \n",
       "3958                            ['Protein-RNA Complex']               386   \n",
       "3959                            ['Protein-RNA Complex']               544   \n",
       "3960                            ['Protein-RNA Complex']               638   \n",
       "3961                            ['Protein-RNA Complex']                 1   \n",
       "3962                            ['Protein-RNA Complex']               337   \n",
       "\n",
       "      cluster_structsim0.45  \\\n",
       "0                        47   \n",
       "1                       148   \n",
       "2                         5   \n",
       "3                       240   \n",
       "4                       240   \n",
       "...                     ...   \n",
       "3958                    131   \n",
       "3959                    240   \n",
       "3960                    240   \n",
       "3961                      3   \n",
       "3962                     76   \n",
       "\n",
       "                                               sequence  length  mean_rmsd  \\\n",
       "0     ACCGAAACUAAUUUAGCGGACCGGAGGCUAUGUUGGGCGUGUAGUG...     358   0.000000   \n",
       "1     UUAGGCGGCCACAGCGGUGGGGUUGCCUCCCGUACCCAUCCCGAAC...     122   0.466553   \n",
       "2     UAACUGAAGAGUUUGAUCAUGGCUCAGAUUGAACGCUGGCGGCAGG...    1519   2.746214   \n",
       "3     CGCGGGGGGAGCAGCCUGGUAGCUCGUCGGGUCAUAACCCGAAGGU...      74   0.677982   \n",
       "4     CGCGGGGGGAGCAGCCUGGUAGCUCGUCGGGUCAUAACCCGAAGGU...      72   0.363182   \n",
       "...                                                 ...     ...        ...   \n",
       "3958  GGUCACUCUGCUAUUUAACUUUACGUUGUAGCUCCCUUUCUCAUUU...     143   0.000000   \n",
       "3959  GGCUACGAGCUCAGGAGAGCACAUCACUAUAGAUGGGCACAGGCGA...      64   0.000000   \n",
       "3960  GCCGUGAUCGUAUAGUGGUUAGUACUCUGCGUUGUGGCCGCAGCAA...      72   0.000000   \n",
       "3961  GGUUAAGCGACUAAGCGUACACGGUGGAUGCCCUGGCAGUCAGAGG...    2875   0.000000   \n",
       "3962  UAAUAGCGCCGCAAUUCAUGCUGCUUGCAGCCUCUGAAUUUUGUUA...     217   0.000000   \n",
       "\n",
       "      median_rmsd  num_structures  \n",
       "0        0.000000               1  \n",
       "1        0.540285              37  \n",
       "2        2.628028              14  \n",
       "3        0.673382               4  \n",
       "4        0.363663              24  \n",
       "...           ...             ...  \n",
       "3958     0.000000               1  \n",
       "3959     0.000000               1  \n",
       "3960     0.000000               1  \n",
       "3961     0.000000               1  \n",
       "3962     0.000000               1  \n",
       "\n",
       "[3963 rows x 11 columns]"
      ]
     },
     "execution_count": 4,
     "metadata": {},
     "output_type": "execute_result"
    }
   ],
   "source": [
    "seq_to_data = torch.load(os.path.join(DATA_PATH, \"processed.pt\"))\n",
    "df = pd.read_csv(os.path.join(DATA_PATH, \"processed_df.csv\"))\n",
    "# df[\"cluster_structsim0.45\"] = df[\"cluster_structsim0.45\"].fillna(-1)\n",
    "# df[\"cluster_seqid0.8\"] = df[\"cluster_seqid0.8\"].fillna(-1)\n",
    "df"
   ]
  },
  {
   "cell_type": "code",
   "execution_count": 5,
   "metadata": {},
   "outputs": [],
   "source": [
    "das_list = [\n",
    "    \"1CSL\", # RRE high affinity site\n",
    "    \"1ET4\", # Vitamin B12 binding RNA aptamer\n",
    "    \"1F27\", # Biotin-binding RNA pseudoknot\n",
    "    \"1L2X\", # Viral RNA pseudoknot\n",
    "    \"1LNT\", # RNA internal loop of SRP\n",
    "    \"1Q9A\", # Sarcin/ricin domain from E.coli 23S rRNA\n",
    "    \"4FE5\", # Guanine riboswitch aptamer (\"1U8D\" is now obsolete, replaced by 4FE5)\n",
    "    \"1X9C\", # All-RNA hairpin ribozyme\n",
    "    \"1XPE\", # HIV-1 B RNA dimerization initiation site\n",
    "    \"2GCS\", # Pre-cleavage state of glmS ribozyme\n",
    "    \"2GDI\", # Thiamine pyrophosphate-specific riboswitch\n",
    "    \"2OEU\", # Junctionless hairpin ribozyme\n",
    "    \"2R8S\", # Synthetic FAB bound to ribozyme domain\n",
    "    \"354D\", # Loop E from E. coli 5S rRNA\n",
    "]"
   ]
  },
  {
   "cell_type": "code",
   "execution_count": 6,
   "metadata": {},
   "outputs": [
    {
     "data": {
      "text/plain": [
       "790"
      ]
     },
     "execution_count": 6,
     "metadata": {},
     "output_type": "execute_result"
    }
   ],
   "source": [
    "# Number of clusters\n",
    "len(df[\"cluster_structsim0.45\"].unique())"
   ]
  },
  {
   "cell_type": "code",
   "execution_count": 18,
   "metadata": {},
   "outputs": [
    {
     "ename": "TypeError",
     "evalue": "list indices must be integers or slices, not str",
     "output_type": "error",
     "traceback": [
      "\u001b[0;31m---------------------------------------------------------------------------\u001b[0m",
      "\u001b[0;31mTypeError\u001b[0m                                 Traceback (most recent call last)",
      "Cell \u001b[0;32mIn[18], line 4\u001b[0m\n\u001b[1;32m      2\u001b[0m test_idx_list \u001b[38;5;241m=\u001b[39m df\n\u001b[1;32m      3\u001b[0m \u001b[38;5;28;01mfor\u001b[39;00m test_idx, idx \u001b[38;5;129;01min\u001b[39;00m \u001b[38;5;28menumerate\u001b[39m(test_idx_list):\n\u001b[0;32m----> 4\u001b[0m     data \u001b[38;5;241m=\u001b[39m \u001b[38;5;28;43mlist\u001b[39;49m\u001b[43m(\u001b[49m\u001b[43mseq_to_data\u001b[49m\u001b[38;5;241;43m.\u001b[39;49m\u001b[43mvalues\u001b[49m\u001b[43m(\u001b[49m\u001b[43m)\u001b[49m\u001b[43m)\u001b[49m\u001b[43m[\u001b[49m\u001b[43midx\u001b[49m\u001b[43m]\u001b[49m\n\u001b[1;32m      5\u001b[0m     \u001b[38;5;28;01mfor\u001b[39;00m \u001b[38;5;28mid\u001b[39m \u001b[38;5;129;01min\u001b[39;00m data[\u001b[38;5;124m\"\u001b[39m\u001b[38;5;124mid_list\u001b[39m\u001b[38;5;124m\"\u001b[39m]:\n\u001b[1;32m      6\u001b[0m         \u001b[38;5;28;01mif\u001b[39;00m \u001b[38;5;28mid\u001b[39m\u001b[38;5;241m.\u001b[39msplit(\u001b[38;5;124m\"\u001b[39m\u001b[38;5;124m_\u001b[39m\u001b[38;5;124m\"\u001b[39m)[\u001b[38;5;241m0\u001b[39m] \u001b[38;5;129;01min\u001b[39;00m das_list:\n",
      "\u001b[0;31mTypeError\u001b[0m: list indices must be integers or slices, not str"
     ]
    }
   ],
   "source": [
    "das_list_to_test_idx = {}\n",
    "test_idx_list = df\n",
    "for test_idx, idx in enumerate(test_idx_list):\n",
    "    data = list(seq_to_data.values())[idx]\n",
    "    for id in data[\"id_list\"]:\n",
    "        if id.split(\"_\")[0] in das_list:\n",
    "            das_list_to_test_idx[id.split(\"_\")[0]] = test_idx"
   ]
  },
  {
   "cell_type": "code",
   "execution_count": 8,
   "metadata": {},
   "outputs": [
    {
     "data": {
      "text/plain": [
       "{}"
      ]
     },
     "execution_count": 8,
     "metadata": {},
     "output_type": "execute_result"
    }
   ],
   "source": [
    "das_list_to_test_idx"
   ]
  },
  {
   "cell_type": "code",
   "execution_count": 9,
   "metadata": {},
   "outputs": [
    {
     "name": "stderr",
     "output_type": "stream",
     "text": [
      "100%|████████████████████████████████████████████████████████████████████████████████████████████████████████████████████████████████████████████████████| 3963/3963 [00:00<00:00, 439422.28it/s]"
     ]
    },
    {
     "name": "stdout",
     "output_type": "stream",
     "text": [
      "Number of excluded sequences (> 1000 nts): 1349\n"
     ]
    },
    {
     "name": "stderr",
     "output_type": "stream",
     "text": [
      "\n"
     ]
    }
   ],
   "source": [
    "cluster_to_seq_idx_list = {}     # cluster -> list of seq idx in seq_to_data dict\n",
    "excluded_idx = []                # indexes which will be excluded from val/test set\n",
    "\n",
    "das_list_to_cluster = {}      # ID is Das list -> cluster ID\n",
    "\n",
    "unclustered_id = int(df[\"cluster_structsim0.45\"].max()) + 1  # some clusters were not assigned\n",
    "\n",
    "for seq_idx, data in enumerate(tqdm(seq_to_data.values())):\n",
    "    # exclude very long sequences which are generally ribosomal RNAs\n",
    "    if len(data[\"sequence\"]) > 1000:\n",
    "        excluded_idx.append(seq_idx)\n",
    "    \n",
    "    else:\n",
    "        cluster = int(data[\"cluster_structsim0.45\"])\n",
    "        if cluster == -1:\n",
    "            # assign unclustered sequences to a new cluster\n",
    "            cluster = unclustered_id\n",
    "            unclustered_id += 1\n",
    "\n",
    "        if cluster not in cluster_to_seq_idx_list:\n",
    "            cluster_to_seq_idx_list[cluster] = []\n",
    "        cluster_to_seq_idx_list[cluster].append(seq_idx)\n",
    "\n",
    "        for id in data[\"id_list\"]:\n",
    "            if id.split(\"_\")[0] in das_list:\n",
    "                das_list_to_cluster[id.split(\"_\")[0]] = cluster\n",
    "\n",
    "print(f\"Number of excluded sequences (> 1000 nts): {len(excluded_idx)}\")"
   ]
  },
  {
   "cell_type": "code",
   "execution_count": 11,
   "metadata": {},
   "outputs": [
    {
     "data": {
      "text/plain": [
       "{'354D': 583}"
      ]
     },
     "execution_count": 11,
     "metadata": {},
     "output_type": "execute_result"
    }
   ],
   "source": [
    "das_list_to_cluster"
   ]
  },
  {
   "cell_type": "code",
   "execution_count": 13,
   "metadata": {},
   "outputs": [
    {
     "data": {
      "text/html": [
       "<div>\n",
       "<style scoped>\n",
       "    .dataframe tbody tr th:only-of-type {\n",
       "        vertical-align: middle;\n",
       "    }\n",
       "\n",
       "    .dataframe tbody tr th {\n",
       "        vertical-align: top;\n",
       "    }\n",
       "\n",
       "    .dataframe thead th {\n",
       "        text-align: right;\n",
       "    }\n",
       "</style>\n",
       "<table border=\"1\" class=\"dataframe\">\n",
       "  <thead>\n",
       "    <tr style=\"text-align: right;\">\n",
       "      <th></th>\n",
       "      <th>Cluster ID</th>\n",
       "      <th>Cluster size</th>\n",
       "      <th>Median intra-sequence RMSD</th>\n",
       "    </tr>\n",
       "  </thead>\n",
       "  <tbody>\n",
       "    <tr>\n",
       "      <th>0</th>\n",
       "      <td>47</td>\n",
       "      <td>2</td>\n",
       "      <td>0.000000</td>\n",
       "    </tr>\n",
       "    <tr>\n",
       "      <th>1</th>\n",
       "      <td>148</td>\n",
       "      <td>115</td>\n",
       "      <td>0.652254</td>\n",
       "    </tr>\n",
       "    <tr>\n",
       "      <th>2</th>\n",
       "      <td>240</td>\n",
       "      <td>446</td>\n",
       "      <td>2.576573</td>\n",
       "    </tr>\n",
       "    <tr>\n",
       "      <th>3</th>\n",
       "      <td>146</td>\n",
       "      <td>4</td>\n",
       "      <td>3.388298</td>\n",
       "    </tr>\n",
       "    <tr>\n",
       "      <th>4</th>\n",
       "      <td>698</td>\n",
       "      <td>7</td>\n",
       "      <td>0.212002</td>\n",
       "    </tr>\n",
       "    <tr>\n",
       "      <th>...</th>\n",
       "      <td>...</td>\n",
       "      <td>...</td>\n",
       "      <td>...</td>\n",
       "    </tr>\n",
       "    <tr>\n",
       "      <th>770</th>\n",
       "      <td>618</td>\n",
       "      <td>1</td>\n",
       "      <td>0.000000</td>\n",
       "    </tr>\n",
       "    <tr>\n",
       "      <th>771</th>\n",
       "      <td>231</td>\n",
       "      <td>1</td>\n",
       "      <td>0.000000</td>\n",
       "    </tr>\n",
       "    <tr>\n",
       "      <th>772</th>\n",
       "      <td>352</td>\n",
       "      <td>1</td>\n",
       "      <td>0.000000</td>\n",
       "    </tr>\n",
       "    <tr>\n",
       "      <th>773</th>\n",
       "      <td>617</td>\n",
       "      <td>1</td>\n",
       "      <td>0.000000</td>\n",
       "    </tr>\n",
       "    <tr>\n",
       "      <th>774</th>\n",
       "      <td>286</td>\n",
       "      <td>1</td>\n",
       "      <td>0.000000</td>\n",
       "    </tr>\n",
       "  </tbody>\n",
       "</table>\n",
       "<p>775 rows × 3 columns</p>\n",
       "</div>"
      ],
      "text/plain": [
       "     Cluster ID  Cluster size  Median intra-sequence RMSD\n",
       "0            47             2                    0.000000\n",
       "1           148           115                    0.652254\n",
       "2           240           446                    2.576573\n",
       "3           146             4                    3.388298\n",
       "4           698             7                    0.212002\n",
       "..          ...           ...                         ...\n",
       "770         618             1                    0.000000\n",
       "771         231             1                    0.000000\n",
       "772         352             1                    0.000000\n",
       "773         617             1                    0.000000\n",
       "774         286             1                    0.000000\n",
       "\n",
       "[775 rows x 3 columns]"
      ]
     },
     "execution_count": 13,
     "metadata": {},
     "output_type": "execute_result"
    }
   ],
   "source": [
    "# Cluster sizes: number of sequences in each cluster\n",
    "cluster_ids = list(cluster_to_seq_idx_list.keys())\n",
    "cluster_sizes = [len(list) for list in cluster_to_seq_idx_list.values()]\n",
    "\n",
    "# Median RMSD for each cluster (in same order as cluster_id list)\n",
    "cluster_median_rmsds = []\n",
    "for cluster, seq_idx_list in cluster_to_seq_idx_list.items():\n",
    "    rmsds = []\n",
    "    for seq_idx in seq_idx_list:\n",
    "        sequence = list(seq_to_data.keys())[seq_idx]  # ugh, how longwinded...\n",
    "        _rmsds = list(seq_to_data[sequence][\"rmsds_list\"].values())\n",
    "        if len(_rmsds) > 0:\n",
    "            rmsds += _rmsds\n",
    "    if len(rmsds) > 0:\n",
    "        cluster_median_rmsds.append(np.median(rmsds))\n",
    "    else:\n",
    "        cluster_median_rmsds.append(0.0)\n",
    "\n",
    "df_split = pd.DataFrame({\n",
    "    'Cluster ID': cluster_ids,\n",
    "    'Cluster size': cluster_sizes,\n",
    "    'Median intra-sequence RMSD': cluster_median_rmsds,\n",
    "})\n",
    "# Sort df_split by median intra-sequence RMSD\n",
    "# df_split = df_split.sort_values(by=\"Median intra-sequence RMSD\", ascending=False)\n",
    "df_split"
   ]
  },
  {
   "cell_type": "code",
   "execution_count": 14,
   "metadata": {},
   "outputs": [
    {
     "data": {
      "text/html": [
       "<div>\n",
       "<style scoped>\n",
       "    .dataframe tbody tr th:only-of-type {\n",
       "        vertical-align: middle;\n",
       "    }\n",
       "\n",
       "    .dataframe tbody tr th {\n",
       "        vertical-align: top;\n",
       "    }\n",
       "\n",
       "    .dataframe thead th {\n",
       "        text-align: right;\n",
       "    }\n",
       "</style>\n",
       "<table border=\"1\" class=\"dataframe\">\n",
       "  <thead>\n",
       "    <tr style=\"text-align: right;\">\n",
       "      <th></th>\n",
       "      <th>Cluster ID</th>\n",
       "      <th>Cluster size</th>\n",
       "      <th>Median intra-sequence RMSD</th>\n",
       "    </tr>\n",
       "  </thead>\n",
       "  <tbody>\n",
       "    <tr>\n",
       "      <th>751</th>\n",
       "      <td>583</td>\n",
       "      <td>1</td>\n",
       "      <td>0.0</td>\n",
       "    </tr>\n",
       "  </tbody>\n",
       "</table>\n",
       "</div>"
      ],
      "text/plain": [
       "     Cluster ID  Cluster size  Median intra-sequence RMSD\n",
       "751         583             1                         0.0"
      ]
     },
     "execution_count": 14,
     "metadata": {},
     "output_type": "execute_result"
    }
   ],
   "source": [
    "df_split.loc[df_split[\"Cluster ID\"].isin(das_list_to_cluster.values())]"
   ]
  },
  {
   "cell_type": "code",
   "execution_count": 15,
   "metadata": {},
   "outputs": [],
   "source": [
    "# Das split preparation\n",
    "\n",
    "# Initialize lists for test, validation, and training set indexes\n",
    "test_idx_list = []\n",
    "val_idx_list = []\n",
    "train_idx_list = []\n",
    "\n",
    "# Training, validation, and test splits become progressively harder.\n",
    "#     - All sequences from Das list as well as those in the same cluster -- test set.\n",
    "#     - All remaining samples -- randomly added to training or validation set.\n",
    "#     - Very large (> 1000 nts) RNAs -- training set.\n",
    "\n",
    "for _, (cluster, cluster_size, median_rmsd) in df_split.iterrows():\n",
    "    seq_idx_list = cluster_to_seq_idx_list[cluster]\n",
    "    assert cluster_size == len(seq_idx_list)\n",
    "\n",
    "    # Test set\n",
    "    if cluster in das_list_to_cluster.values():\n",
    "        test_idx_list += seq_idx_list\n",
    "\n",
    "    # Validation set\n",
    "    elif len(val_idx_list) < 100 and cluster_size < 3:\n",
    "        val_idx_list += seq_idx_list\n",
    "    \n",
    "    # Training set\n",
    "    else:\n",
    "        train_idx_list += seq_idx_list\n",
    "\n",
    "# Add all the sequences that were not assigned any clusters into the training set\n",
    "try:\n",
    "    assert len(test_idx_list) + len(val_idx_list) + len(train_idx_list) == len(list(seq_to_data.keys()))\n",
    "except:\n",
    "    train_idx_list += excluded_idx\n",
    "    assert len(test_idx_list) + len(val_idx_list) + len(train_idx_list) == len(list(seq_to_data.keys()))"
   ]
  },
  {
   "cell_type": "code",
   "execution_count": 16,
   "metadata": {},
   "outputs": [],
   "source": [
    "# Save RMSD split\n",
    "torch.save(\n",
    "    (train_idx_list, val_idx_list, test_idx_list), \n",
    "    os.path.join(DATA_PATH, \"das_split.pt\")\n",
    ")"
   ]
  },
  {
   "cell_type": "code",
   "execution_count": 17,
   "metadata": {},
   "outputs": [
    {
     "name": "stdout",
     "output_type": "stream",
     "text": [
      "Split: train\n",
      "Average median RMSD: 0.48 +- 1.20\n",
      "Median number of structures: 1.00\n"
     ]
    },
    {
     "data": {
      "image/png": "[encoded data removed]",
      "text/plain": [
       "<Figure size 1000x1000 with 4 Axes>"
      ]
     },
     "metadata": {},
     "output_type": "display_data"
    },
    {
     "name": "stdout",
     "output_type": "stream",
     "text": [
      "Split: val\n",
      "Average median RMSD: 0.54 +- 1.01\n",
      "Median number of structures: 2.00\n"
     ]
    },
    {
     "data": {
      "image/png": "[encoded data removed]",
      "text/plain": [
       "<Figure size 1000x1000 with 4 Axes>"
      ]
     },
     "metadata": {},
     "output_type": "display_data"
    },
    {
     "name": "stdout",
     "output_type": "stream",
     "text": [
      "Split: test\n",
      "Average median RMSD: 0.00 +- nan\n",
      "Median number of structures: 1.00\n"
     ]
    },
    {
     "data": {
      "image/png": "[encoded data removed]",
      "text/plain": [
       "<Figure size 1000x1000 with 4 Axes>"
      ]
     },
     "metadata": {},
     "output_type": "display_data"
    }
   ],
   "source": [
    "df[\"split\"] = \"train\"\n",
    "df.loc[val_idx_list, \"split\"] = \"val\"\n",
    "df.loc[test_idx_list, \"split\"] = \"test\"\n",
    "\n",
    "for split in [\"train\", \"val\", \"test\"]:\n",
    "    print(f\"Split: {split}\")\n",
    "    print(f\"Average median RMSD: {df.loc[df.split == split]['median_rmsd'].mean():.2f} +- {df.loc[df.split == split]['median_rmsd'].std():.2f}\")\n",
    "    print(f\"Median number of structures: {df.loc[df.split == split]['num_structures'].median():.2f}\")\n",
    "    df.loc[df.split == split].hist(column=[\"length\", \"num_structures\", \"mean_rmsd\", \"median_rmsd\"], figsize=(10, 10), bins=100)\n",
    "    plt.show()\n"
   ]
  },
  {
   "cell_type": "code",
   "execution_count": null,
   "metadata": {},
   "outputs": [],
   "source": []
  }
 ],
 "metadata": {
  "kernelspec": {
   "display_name": "rna",
   "language": "python",
   "name": "rna"
  },
  "language_info": {
   "codemirror_mode": {
    "name": "ipython",
    "version": 3
   },
   "file_extension": ".py",
   "mimetype": "text/x-python",
   "name": "python",
   "nbconvert_exporter": "python",
   "pygments_lexer": "ipython3",
   "version": "3.10.14"
  }
 },
 "nbformat": 4,
 "nbformat_minor": 4
}
